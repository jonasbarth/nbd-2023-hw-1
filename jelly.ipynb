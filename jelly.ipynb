{
 "cells": [
  {
   "cell_type": "code",
   "execution_count": 1,
   "id": "d39e13b8",
   "metadata": {
    "id": "d39e13b8"
   },
   "outputs": [],
   "source": [
    "import networkx as nx\n",
    "import matplotlib.pyplot as plt\n",
    "import numpy as np\n",
    "import random\n",
    "from tqdm import tqdm as tq"
   ]
  },
  {
   "cell_type": "markdown",
   "id": "ef0b509f",
   "metadata": {
    "id": "ef0b509f"
   },
   "source": [
    "# Build the Jellyfish structure"
   ]
  },
  {
   "cell_type": "code",
   "execution_count": 2,
   "id": "63ef7d38",
   "metadata": {
    "id": "63ef7d38"
   },
   "outputs": [],
   "source": [
    "def construct_jellyfish_topology(switches, ports, r):\n",
    "  \n",
    "    #create switch structure\n",
    "    G = nx.random_regular_graph(r, switches)\n",
    "    \n",
    "    #label switches with 0\n",
    "    for i in range(switches):\n",
    "        \n",
    "        G.nodes[i]['type'] = 0 \n",
    "    \n",
    "    #add servers labeling them as 1\n",
    "\n",
    "    H = nx.Graph()\n",
    "    H.add_nodes_from(G.nodes(data=True))\n",
    "    H.add_edges_from(G.edges())\n",
    "    \n",
    "    servers_counter = 0\n",
    "    \n",
    "    for i in range(switches):\n",
    "\n",
    "        for j in range(ports - r):\n",
    "            \n",
    "            if servers_counter <= n_servers:\n",
    "\n",
    "                server_name = f'server_{i}_{j}'\n",
    "\n",
    "                H.add_node(server_name)\n",
    "\n",
    "                H.nodes[server_name]['type'] = 1\n",
    "\n",
    "                H.add_edge(i, server_name)\n",
    "\n",
    "                servers_counter += 1 \n",
    "    \n",
    "    return H"
   ]
  },
  {
   "cell_type": "code",
   "execution_count": 3,
   "id": "172a5412",
   "metadata": {
    "colab": {
     "base_uri": "https://localhost:8080/"
    },
    "id": "172a5412",
    "outputId": "422366a2-ad13-48e1-f635-0fd903a3ff3e"
   },
   "outputs": [],
   "source": [
    "n = 64                           #number of ports\n",
    "r = int(n/2)                     #number of neighbor\n",
    "n_servers = (n**3)//4        #number of servers\n",
    "n_switches = n_servers//(n-r)    #number of switches\n",
    "\n",
    "\n",
    "# Construct Jellyfish topology\n",
    "jelly = construct_jellyfish_topology(n_switches, n, r)\n"
   ]
  },
  {
   "cell_type": "code",
   "execution_count": 4,
   "id": "QQgr4AJ3bjV2",
   "metadata": {
    "id": "QQgr4AJ3bjV2"
   },
   "outputs": [],
   "source": [
    "#constants\n",
    "\n",
    "tau = 5*10**-6 \n",
    "L_f = 4000 #in Gbit\n",
    "f = 48/1500 #overhead\n",
    "expected_time = 8 * 3600 #expected time in second\n",
    "fixed_job_time_s = 30\n",
    "L_0 = 4000\n",
    "capacity = 10"
   ]
  },
  {
   "cell_type": "code",
   "execution_count": 5,
   "id": "8SzQcSEzVpNy",
   "metadata": {
    "id": "8SzQcSEzVpNy"
   },
   "outputs": [],
   "source": [
    "def response_time(graph, N, tau, L_f, f, expected_time, fixed_job_time_s, L_0, capacity): \n",
    "\n",
    "  #get the list of servers\n",
    "    servers = [node[0] for node in graph.nodes(data = True) if node[1]['type'] == 1] \n",
    "\n",
    "  #choose the main server\n",
    "    main_server = random.choice(servers)\n",
    "\n",
    "  #create a list of tuples with (server, number of hopes from the main_server)\n",
    "    dict_hops = [(i,nx.shortest_path_length(graph, main_server, i)) for i in servers if i != main_server]\n",
    "\n",
    "  #sort the server by closeness\n",
    "    n_closest_servers = sorted(dict_hops,key = lambda x: x[1])\n",
    "\n",
    "  #calculate the avg throughput\n",
    "    avg_t = []\n",
    "\n",
    "    closest_server_hopes = [i[1] for i in n_closest_servers[0:(n_servers)]]\n",
    "\n",
    "    normalizing_term = sum(1/(2*tau*np.array(closest_server_hopes)))\n",
    "\n",
    "    for i in closest_server_hopes:\n",
    "    \n",
    "        tj = 2*tau*i\n",
    "        throughput = capacity * (1 / tj) / normalizing_term\n",
    "        avg_t.append(throughput)\n",
    "\n",
    "  #time forth\n",
    "    input_data = np.full(n_servers - 1, (L_f/n_servers)) + ((L_f / n_servers) * f)\n",
    "\n",
    "  #input_data = np.array([L_f/n_servers]) + ((L_f / n_servers) * f) #split data + overhead\n",
    "    time_forth = input_data/np.array(avg_t) #time \n",
    "\n",
    "  #job time\n",
    "    job_running_times = np.random.exponential(1/(expected_time/n_servers), n_servers - 1) + fixed_job_time_s\n",
    "\n",
    "  #go back\n",
    "    output_job = np.random.uniform(0, (2*L_0/n_servers), n_servers - 1)\n",
    "\n",
    "    output_data = output_job + (output_job * f)\n",
    "\n",
    "    time_to_back = output_data / np.array(avg_t)\n",
    "\n",
    "    response_time = np.max(time_forth + job_running_times + time_to_back)\n",
    "\n",
    "    return response_time \n",
    "  "
   ]
  },
  {
   "cell_type": "code",
   "execution_count": 6,
   "id": "6hf6AZVZk--r",
   "metadata": {
    "colab": {
     "base_uri": "https://localhost:8080/"
    },
    "id": "6hf6AZVZk--r",
    "outputId": "5aeff6a9-5117-41cb-820c-66d455353d86"
   },
   "outputs": [
    {
     "data": {
      "text/plain": [
       "1409.400302715796"
      ]
     },
     "execution_count": 6,
     "metadata": {},
     "output_type": "execute_result"
    }
   ],
   "source": [
    "response_time(jelly, 100, tau, L_f, f, expected_time, fixed_job_time_s, L_0, capacity)"
   ]
  },
  {
   "cell_type": "code",
   "execution_count": 17,
   "id": "_YlFsSC7pzYa",
   "metadata": {
    "colab": {
     "base_uri": "https://localhost:8080/",
     "height": 398
    },
    "id": "_YlFsSC7pzYa",
    "outputId": "71054648-c7c8-44fa-d24f-0d95ec9aa12a"
   },
   "outputs": [
    {
     "name": "stderr",
     "output_type": "stream",
     "text": [
      "100%|███████████████████████████████████████████| 50/50 [17:00<00:00, 20.40s/it]\n"
     ]
    }
   ],
   "source": [
    "#simulation parameters\n",
    "\n",
    "N = 10000  #maximum rumber of servers\n",
    "\n",
    "servers = range(1, N + 1, 200)  #grid search on number of servers\n",
    "\n",
    "baseline = expected_time + fixed_job_time_s\n",
    "\n",
    "n_simulation = 5\n",
    "\n",
    "responses = []\n",
    "\n",
    "for number in tq(servers): \n",
    "\n",
    "    samples = []\n",
    "\n",
    "    for _ in range(n_simulation):\n",
    "\n",
    "        samples.append(response_time(jelly, number, tau, L_f, f, expected_time, fixed_job_time_s, L_0, capacity))\n",
    "\n",
    "    responses.append(sum(samples)/(len(samples)))  \n",
    "\n"
   ]
  },
  {
   "cell_type": "code",
   "execution_count": 20,
   "id": "acb70b4f",
   "metadata": {},
   "outputs": [],
   "source": [
    "def plot_response_time(servers, response_times: [np.array], labels: [str],optimal_servers):\n",
    "    \"\"\"Plots the expected response time.\"\"\"\n",
    "    fig, ax = plt.subplots(1)\n",
    "\n",
    "    for response_time, label, optimal_server in zip(response_times, labels, optimal_servers):\n",
    "        ax.plot(servers, response_time, label=label)\n",
    "        ax.axvline(x=optimal_server, ls=\"--\", label=\"Optimal Servers\")\n",
    "        ax.text(x=optimal_server * 0.90, y=np.max(response_times), s=optimal_server)\n",
    "\n",
    "    ax.set(title=\"Normalised Response Time\", ylabel=\"Response Time\", xlabel=\"Number of Servers\")\n",
    "    ax.legend()\n",
    "\n",
    "    return fig, ax"
   ]
  },
  {
   "cell_type": "code",
   "execution_count": 21,
   "id": "42b0918e",
   "metadata": {},
   "outputs": [
    {
     "data": {
      "text/plain": [
       "50"
      ]
     },
     "execution_count": 21,
     "metadata": {},
     "output_type": "execute_result"
    }
   ],
   "source": [
    "len(servers)"
   ]
  },
  {
   "cell_type": "code",
   "execution_count": 22,
   "id": "b82f4310",
   "metadata": {},
   "outputs": [
    {
     "data": {
      "text/plain": [
       "50"
      ]
     },
     "execution_count": 22,
     "metadata": {},
     "output_type": "execute_result"
    }
   ],
   "source": [
    "len(responses)"
   ]
  },
  {
   "cell_type": "code",
   "execution_count": 24,
   "id": "f952b32d",
   "metadata": {},
   "outputs": [
    {
     "data": {
      "text/plain": [
       "(<Figure size 432x288 with 1 Axes>,\n",
       " <AxesSubplot:title={'center':'Normalised Response Time'}, xlabel='Number of Servers', ylabel='Response Time'>)"
      ]
     },
     "execution_count": 24,
     "metadata": {},
     "output_type": "execute_result"
    },
    {
     "data": {
      "image/png": "[encoded data removed]",
      "text/plain": [
       "<Figure size 432x288 with 1 Axes>"
      ]
     },
     "metadata": {
      "needs_background": "light"
     },
     "output_type": "display_data"
    }
   ],
   "source": [
    "responses = [np.array(responses)]\n",
    "\n",
    "plot_response_time(servers, responses, [\"JellyFish\"], [servers[np.argmin(responses)]])"
   ]
  },
  {
   "cell_type": "code",
   "execution_count": 23,
   "id": "aN9Vrhpq1B4M",
   "metadata": {
    "id": "aN9Vrhpq1B4M"
   },
   "outputs": [
    {
     "data": {
      "image/png": "[encoded data removed]",
      "text/plain": [
       "<Figure size 432x288 with 1 Axes>"
      ]
     },
     "metadata": {
      "needs_background": "light"
     },
     "output_type": "display_data"
    }
   ],
   "source": [
    "plt.plot(servers, np.array(responses) / baseline)\n",
    "plt.xlabel(\"Number of Servers\")\n",
    "plt.ylabel(\"Responses time\")\n",
    "plt.title(\"Normalised Responses\")\n",
    "plt.show()"
   ]
  },
  {
   "cell_type": "code",
   "execution_count": 27,
   "id": "acec3aa6",
   "metadata": {},
   "outputs": [],
   "source": [
    "xi = 0.1"
   ]
  },
  {
   "cell_type": "code",
   "execution_count": 28,
   "id": "bd542d6a",
   "metadata": {},
   "outputs": [],
   "source": [
    "baseline = (expected_time + fixed_job_time_s) + (xi * expected_time)"
   ]
  },
  {
   "cell_type": "code",
   "execution_count": 38,
   "id": "3ac8bd81",
   "metadata": {},
   "outputs": [],
   "source": [
    "def simulate_job_running_cost(n_servers, n_simulations):\n",
    "    \n",
    "    responses = []\n",
    "    \n",
    "    for _ in range(n_simulations):\n",
    "        \n",
    "        responses.append(response_time(jelly, n_servers, tau, L_f, f, expected_time, fixed_job_time_s, L_0, capacity))\n",
    "            \n",
    "    mean_responses = np.mean(np.array(responses))\n",
    "    \n",
    "    job_running_mean = np.mean(np.random.exponential(1/(expected_time/n_servers), n_servers) + fixed_job_time_s)\n",
    "    \n",
    "    cost = mean_responses + (xi*job_running_mean)\n",
    "    \n",
    "    return cost"
   ]
  },
  {
   "cell_type": "code",
   "execution_count": 39,
   "id": "94acd9d5",
   "metadata": {},
   "outputs": [
    {
     "ename": "ValueError",
     "evalue": "zero-size array to reduction operation maximum which has no identity",
     "output_type": "error",
     "traceback": [
      "\u001b[0;31m---------------------------------------------------------------------------\u001b[0m",
      "\u001b[0;31mValueError\u001b[0m                                Traceback (most recent call last)",
      "Input \u001b[0;32mIn [39]\u001b[0m, in \u001b[0;36m<cell line: 1>\u001b[0;34m()\u001b[0m\n\u001b[0;32m----> 1\u001b[0m \u001b[43msimulate_job_running_cost\u001b[49m\u001b[43m(\u001b[49m\u001b[38;5;241;43m100\u001b[39;49m\u001b[43m,\u001b[49m\u001b[43m \u001b[49m\u001b[38;5;241;43m10\u001b[39;49m\u001b[43m)\u001b[49m\n",
      "Input \u001b[0;32mIn [38]\u001b[0m, in \u001b[0;36msimulate_job_running_cost\u001b[0;34m(n_servers, n_simulations)\u001b[0m\n\u001b[1;32m      3\u001b[0m responses \u001b[38;5;241m=\u001b[39m []\n\u001b[1;32m      5\u001b[0m \u001b[38;5;28;01mfor\u001b[39;00m _ \u001b[38;5;129;01min\u001b[39;00m \u001b[38;5;28mrange\u001b[39m(n_simulations):\n\u001b[0;32m----> 7\u001b[0m     responses\u001b[38;5;241m.\u001b[39mappend(\u001b[43mresponse_time\u001b[49m\u001b[43m(\u001b[49m\u001b[43mjelly\u001b[49m\u001b[43m,\u001b[49m\u001b[43m \u001b[49m\u001b[43mn_servers\u001b[49m\u001b[43m,\u001b[49m\u001b[43m \u001b[49m\u001b[43mtau\u001b[49m\u001b[43m,\u001b[49m\u001b[43m \u001b[49m\u001b[43mL_f\u001b[49m\u001b[43m,\u001b[49m\u001b[43m \u001b[49m\u001b[43mf\u001b[49m\u001b[43m,\u001b[49m\u001b[43m \u001b[49m\u001b[43mexpected_time\u001b[49m\u001b[43m,\u001b[49m\u001b[43m \u001b[49m\u001b[43mfixed_job_time_s\u001b[49m\u001b[43m,\u001b[49m\u001b[43m \u001b[49m\u001b[43mL_0\u001b[49m\u001b[43m,\u001b[49m\u001b[43m \u001b[49m\u001b[43mcapacity\u001b[49m\u001b[43m)\u001b[49m)\n\u001b[1;32m      9\u001b[0m mean_responses \u001b[38;5;241m=\u001b[39m np\u001b[38;5;241m.\u001b[39mmean(np\u001b[38;5;241m.\u001b[39marray(responses))\n\u001b[1;32m     11\u001b[0m job_running_mean \u001b[38;5;241m=\u001b[39m np\u001b[38;5;241m.\u001b[39mmean(np\u001b[38;5;241m.\u001b[39mrandom\u001b[38;5;241m.\u001b[39mexponential(\u001b[38;5;241m1\u001b[39m\u001b[38;5;241m/\u001b[39m(expected_time\u001b[38;5;241m/\u001b[39mn_servers), n_servers) \u001b[38;5;241m+\u001b[39m fixed_job_time_s)\n",
      "Input \u001b[0;32mIn [5]\u001b[0m, in \u001b[0;36mresponse_time\u001b[0;34m(graph, N, tau, L_f, f, expected_time, fixed_job_time_s, L_0, capacity)\u001b[0m\n\u001b[1;32m     40\u001b[0m output_data \u001b[38;5;241m=\u001b[39m output_job \u001b[38;5;241m+\u001b[39m (output_job \u001b[38;5;241m*\u001b[39m f)\n\u001b[1;32m     42\u001b[0m time_to_back \u001b[38;5;241m=\u001b[39m output_data \u001b[38;5;241m/\u001b[39m np\u001b[38;5;241m.\u001b[39marray(avg_t)\n\u001b[0;32m---> 44\u001b[0m response_time \u001b[38;5;241m=\u001b[39m \u001b[43mnp\u001b[49m\u001b[38;5;241;43m.\u001b[39;49m\u001b[43mmax\u001b[49m\u001b[43m(\u001b[49m\u001b[43mtime_forth\u001b[49m\u001b[43m \u001b[49m\u001b[38;5;241;43m+\u001b[39;49m\u001b[43m \u001b[49m\u001b[43mjob_running_times\u001b[49m\u001b[43m \u001b[49m\u001b[38;5;241;43m+\u001b[39;49m\u001b[43m \u001b[49m\u001b[43mtime_to_back\u001b[49m\u001b[43m)\u001b[49m\n\u001b[1;32m     46\u001b[0m \u001b[38;5;28;01mreturn\u001b[39;00m response_time\n",
      "File \u001b[0;32m<__array_function__ internals>:5\u001b[0m, in \u001b[0;36mamax\u001b[0;34m(*args, **kwargs)\u001b[0m\n",
      "File \u001b[0;32m~/opt/anaconda3/lib/python3.9/site-packages/numpy/core/fromnumeric.py:2754\u001b[0m, in \u001b[0;36mamax\u001b[0;34m(a, axis, out, keepdims, initial, where)\u001b[0m\n\u001b[1;32m   2638\u001b[0m \u001b[38;5;129m@array_function_dispatch\u001b[39m(_amax_dispatcher)\n\u001b[1;32m   2639\u001b[0m \u001b[38;5;28;01mdef\u001b[39;00m \u001b[38;5;21mamax\u001b[39m(a, axis\u001b[38;5;241m=\u001b[39m\u001b[38;5;28;01mNone\u001b[39;00m, out\u001b[38;5;241m=\u001b[39m\u001b[38;5;28;01mNone\u001b[39;00m, keepdims\u001b[38;5;241m=\u001b[39mnp\u001b[38;5;241m.\u001b[39m_NoValue, initial\u001b[38;5;241m=\u001b[39mnp\u001b[38;5;241m.\u001b[39m_NoValue,\n\u001b[1;32m   2640\u001b[0m          where\u001b[38;5;241m=\u001b[39mnp\u001b[38;5;241m.\u001b[39m_NoValue):\n\u001b[1;32m   2641\u001b[0m     \u001b[38;5;124;03m\"\"\"\u001b[39;00m\n\u001b[1;32m   2642\u001b[0m \u001b[38;5;124;03m    Return the maximum of an array or maximum along an axis.\u001b[39;00m\n\u001b[1;32m   2643\u001b[0m \n\u001b[0;32m   (...)\u001b[0m\n\u001b[1;32m   2752\u001b[0m \u001b[38;5;124;03m    5\u001b[39;00m\n\u001b[1;32m   2753\u001b[0m \u001b[38;5;124;03m    \"\"\"\u001b[39;00m\n\u001b[0;32m-> 2754\u001b[0m     \u001b[38;5;28;01mreturn\u001b[39;00m \u001b[43m_wrapreduction\u001b[49m\u001b[43m(\u001b[49m\u001b[43ma\u001b[49m\u001b[43m,\u001b[49m\u001b[43m \u001b[49m\u001b[43mnp\u001b[49m\u001b[38;5;241;43m.\u001b[39;49m\u001b[43mmaximum\u001b[49m\u001b[43m,\u001b[49m\u001b[43m \u001b[49m\u001b[38;5;124;43m'\u001b[39;49m\u001b[38;5;124;43mmax\u001b[39;49m\u001b[38;5;124;43m'\u001b[39;49m\u001b[43m,\u001b[49m\u001b[43m \u001b[49m\u001b[43maxis\u001b[49m\u001b[43m,\u001b[49m\u001b[43m \u001b[49m\u001b[38;5;28;43;01mNone\u001b[39;49;00m\u001b[43m,\u001b[49m\u001b[43m \u001b[49m\u001b[43mout\u001b[49m\u001b[43m,\u001b[49m\n\u001b[1;32m   2755\u001b[0m \u001b[43m                          \u001b[49m\u001b[43mkeepdims\u001b[49m\u001b[38;5;241;43m=\u001b[39;49m\u001b[43mkeepdims\u001b[49m\u001b[43m,\u001b[49m\u001b[43m \u001b[49m\u001b[43minitial\u001b[49m\u001b[38;5;241;43m=\u001b[39;49m\u001b[43minitial\u001b[49m\u001b[43m,\u001b[49m\u001b[43m \u001b[49m\u001b[43mwhere\u001b[49m\u001b[38;5;241;43m=\u001b[39;49m\u001b[43mwhere\u001b[49m\u001b[43m)\u001b[49m\n",
      "File \u001b[0;32m~/opt/anaconda3/lib/python3.9/site-packages/numpy/core/fromnumeric.py:86\u001b[0m, in \u001b[0;36m_wrapreduction\u001b[0;34m(obj, ufunc, method, axis, dtype, out, **kwargs)\u001b[0m\n\u001b[1;32m     83\u001b[0m         \u001b[38;5;28;01melse\u001b[39;00m:\n\u001b[1;32m     84\u001b[0m             \u001b[38;5;28;01mreturn\u001b[39;00m reduction(axis\u001b[38;5;241m=\u001b[39maxis, out\u001b[38;5;241m=\u001b[39mout, \u001b[38;5;241m*\u001b[39m\u001b[38;5;241m*\u001b[39mpasskwargs)\n\u001b[0;32m---> 86\u001b[0m \u001b[38;5;28;01mreturn\u001b[39;00m \u001b[43mufunc\u001b[49m\u001b[38;5;241;43m.\u001b[39;49m\u001b[43mreduce\u001b[49m\u001b[43m(\u001b[49m\u001b[43mobj\u001b[49m\u001b[43m,\u001b[49m\u001b[43m \u001b[49m\u001b[43maxis\u001b[49m\u001b[43m,\u001b[49m\u001b[43m \u001b[49m\u001b[43mdtype\u001b[49m\u001b[43m,\u001b[49m\u001b[43m \u001b[49m\u001b[43mout\u001b[49m\u001b[43m,\u001b[49m\u001b[43m \u001b[49m\u001b[38;5;241;43m*\u001b[39;49m\u001b[38;5;241;43m*\u001b[39;49m\u001b[43mpasskwargs\u001b[49m\u001b[43m)\u001b[49m\n",
      "\u001b[0;31mValueError\u001b[0m: zero-size array to reduction operation maximum which has no identity"
     ]
    }
   ],
   "source": [
    "simulate_job_running_cost(100, 10)"
   ]
  }
 ],
 "metadata": {
  "colab": {
   "provenance": []
  },
  "kernelspec": {
   "display_name": "Python 3 (ipykernel)",
   "language": "python",
   "name": "python3"
  },
  "language_info": {
   "codemirror_mode": {
    "name": "ipython",
    "version": 3
   },
   "file_extension": ".py",
   "mimetype": "text/x-python",
   "name": "python",
   "nbconvert_exporter": "python",
   "pygments_lexer": "ipython3",
   "version": "3.9.12"
  }
 },
 "nbformat": 4,
 "nbformat_minor": 5
}
