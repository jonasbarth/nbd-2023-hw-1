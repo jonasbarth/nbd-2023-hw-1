{
 "cells": [
  {
   "cell_type": "code",
   "execution_count": 1,
   "id": "d39e13b8",
   "metadata": {
    "id": "d39e13b8"
   },
   "outputs": [],
   "source": [
    "import networkx as nx\n",
    "import matplotlib.pyplot as plt\n",
    "import numpy as np\n",
    "import random\n",
    "from tqdm import tqdm as tq"
   ]
  },
  {
   "cell_type": "markdown",
   "id": "ef0b509f",
   "metadata": {
    "id": "ef0b509f"
   },
   "source": [
    "# Build the Jellyfish structure"
   ]
  },
  {
   "cell_type": "code",
   "execution_count": 2,
   "id": "63ef7d38",
   "metadata": {
    "id": "63ef7d38"
   },
   "outputs": [],
   "source": [
    "def construct_jellyfish_topology(switches, ports, r):\n",
    "  \n",
    "    #create switch structure\n",
    "    G = nx.random_regular_graph(r, switches)\n",
    "    \n",
    "    #label switches with 0\n",
    "    for i in range(switches):\n",
    "        \n",
    "        G.nodes[i]['type'] = 0 \n",
    "    \n",
    "    #add servers labeling them as 1\n",
    "\n",
    "    H = nx.Graph()\n",
    "    H.add_nodes_from(G.nodes(data=True))\n",
    "    H.add_edges_from(G.edges())\n",
    "    \n",
    "    servers_counter = 0\n",
    "    \n",
    "    for i in range(switches):\n",
    "\n",
    "        for j in range(ports - r):\n",
    "            \n",
    "            if servers_counter <= n_servers:\n",
    "\n",
    "                server_name = f'server_{i}_{j}'\n",
    "\n",
    "                H.add_node(server_name)\n",
    "\n",
    "                H.nodes[server_name]['type'] = 1\n",
    "\n",
    "                H.add_edge(i, server_name)\n",
    "\n",
    "                servers_counter += 1 \n",
    "    \n",
    "    return H"
   ]
  },
  {
   "cell_type": "code",
   "execution_count": 3,
   "id": "172a5412",
   "metadata": {
    "colab": {
     "base_uri": "https://localhost:8080/"
    },
    "id": "172a5412",
    "outputId": "422366a2-ad13-48e1-f635-0fd903a3ff3e"
   },
   "outputs": [],
   "source": [
    "n = 64                           #number of ports\n",
    "r = int(n/2)                     #number of neighbor\n",
    "n_servers = (n**3)//4        #number of servers\n",
    "n_switches = n_servers//(n-r)    #number of switches\n",
    "\n",
    "\n",
    "# Construct Jellyfish topology\n",
    "jelly = construct_jellyfish_topology(n_switches, n, r)\n"
   ]
  },
  {
   "cell_type": "code",
   "execution_count": 4,
   "id": "QQgr4AJ3bjV2",
   "metadata": {
    "id": "QQgr4AJ3bjV2"
   },
   "outputs": [],
   "source": [
    "#constants\n",
    "\n",
    "tau = 5*10**-6 \n",
    "L_f = 4000 #in Gbit\n",
    "f = 48/1500 #overhead\n",
    "expected_time = 8 * 3600 #expected time in second\n",
    "fixed_job_time_s = 30\n",
    "L_0 = 4000\n",
    "capacity = 10"
   ]
  },
  {
   "cell_type": "code",
   "execution_count": 5,
   "id": "8SzQcSEzVpNy",
   "metadata": {
    "id": "8SzQcSEzVpNy"
   },
   "outputs": [],
   "source": [
    "def response_time(graph, N, tau, L_f, f, expected_time, fixed_job_time_s, L_0, capacity): \n",
    "\n",
    "  #get the list of servers\n",
    "    servers = [node[0] for node in graph.nodes(data = True) if node[1]['type'] == 1] \n",
    "\n",
    "  #choose the main server\n",
    "    main_server = random.choice(servers)\n",
    "\n",
    "  #create a list of tuples with (server, number of hopes from the main_server)\n",
    "    dict_hops = [(i,nx.shortest_path_length(graph, main_server, i)) for i in servers if i != main_server]\n",
    "\n",
    "  #sort the server by closeness\n",
    "    n_closest_servers = sorted(dict_hops,key = lambda x: x[1])\n",
    "\n",
    "  #calculate the avg throughput\n",
    "    avg_t = []\n",
    "\n",
    "    closest_server_hopes = [i[1] for i in n_closest_servers[0:(n_servers)]]\n",
    "\n",
    "    normalizing_term = sum(1/(2*tau*np.array(closest_server_hopes)))\n",
    "\n",
    "    for i in closest_server_hopes:\n",
    "    \n",
    "        tj = 2*tau*i\n",
    "        throughput = capacity * (1 / tj) / normalizing_term\n",
    "        avg_t.append(throughput)\n",
    "\n",
    "  #time forth\n",
    "    input_data = np.full(n_servers - 1, (L_f/n_servers)) + ((L_f / n_servers) * f)\n",
    "\n",
    "  #input_data = np.array([L_f/n_servers]) + ((L_f / n_servers) * f) #split data + overhead\n",
    "    time_forth = input_data/np.array(avg_t) #time \n",
    "\n",
    "  #job time\n",
    "    job_running_times = np.random.exponential(1/(expected_time/n_servers), n_servers - 1) + fixed_job_time_s\n",
    "\n",
    "  #go back\n",
    "    output_job = np.random.uniform(0, (2*L_0/n_servers), n_servers - 1)\n",
    "\n",
    "    output_data = output_job + (output_job * f)\n",
    "\n",
    "    time_to_back = output_data / np.array(avg_t)\n",
    "\n",
    "    response_time = np.max(time_forth + job_running_times + time_to_back)\n",
    "\n",
    "    return response_time \n",
    "  "
   ]
  },
  {
   "cell_type": "code",
   "execution_count": 6,
   "id": "6hf6AZVZk--r",
   "metadata": {
    "colab": {
     "base_uri": "https://localhost:8080/"
    },
    "id": "6hf6AZVZk--r",
    "outputId": "5aeff6a9-5117-41cb-820c-66d455353d86"
   },
   "outputs": [
    {
     "data": {
      "text/plain": [
       "1409.400302715796"
      ]
     },
     "execution_count": 6,
     "metadata": {},
     "output_type": "execute_result"
    }
   ],
   "source": [
    "response_time(jelly, 100, tau, L_f, f, expected_time, fixed_job_time_s, L_0, capacity)"
   ]
  },
  {
   "cell_type": "code",
   "execution_count": null,
   "id": "_YlFsSC7pzYa",
   "metadata": {
    "colab": {
     "base_uri": "https://localhost:8080/",
     "height": 398
    },
    "id": "_YlFsSC7pzYa",
    "outputId": "71054648-c7c8-44fa-d24f-0d95ec9aa12a"
   },
   "outputs": [
    {
     "name": "stderr",
     "output_type": "stream",
     "text": [
      " 32%|█████████████▊                             | 16/50 [05:30<12:03, 21.27s/it]"
     ]
    }
   ],
   "source": [
    "#simulation parameters\n",
    "\n",
    "N = 10000  #maximum rumber of servers\n",
    "\n",
    "servers = range(1, N + 1, 200)  #grid search on number of servers\n",
    "\n",
    "baseline = expected_time + fixed_job_time_s\n",
    "\n",
    "n_simulation = 5\n",
    "\n",
    "responses = []\n",
    "\n",
    "for number in tq(servers): \n",
    "\n",
    "    samples = []\n",
    "\n",
    "    for _ in range(n_simulation):\n",
    "\n",
    "        samples.append(response_time(jelly, number, tau, L_f, f, expected_time, fixed_job_time_s, L_0, capacity))\n",
    "\n",
    "    responses.append(sum(samples)/(len(samples)))  \n",
    "\n"
   ]
  },
  {
   "cell_type": "code",
   "execution_count": 13,
   "id": "785a24b2",
   "metadata": {},
   "outputs": [],
   "source": [
    "def plot_response_time(servers, response_times: [np.array], labels: [str],optimal_servers):\n",
    "    \"\"\"Plots the expected response time.\"\"\"\n",
    "    fig, ax = plt.subplots(1)\n",
    "\n",
    "    for response_time, label, optimal_server in zip(response_times, labels, optimal_servers):\n",
    "        ax.plot(servers, response_time, label=label)\n",
    "        ax.axvline(x=optimal_server, ls=\"--\", label=\"Optimal Servers\")\n",
    "        ax.text(x=optimal_server * 0.90, y=np.max(response_times), s=optimal_server)\n",
    "\n",
    "    ax.set(title=\"Normalised Response Time\", ylabel=\"Response Time\", xlabel=\"Number of Servers\")\n",
    "    ax.legend()\n",
    "\n",
    "    return fig, ax"
   ]
  },
  {
   "cell_type": "code",
   "execution_count": 15,
   "id": "78696696",
   "metadata": {},
   "outputs": [
    {
     "data": {
      "text/plain": [
       "50"
      ]
     },
     "execution_count": 15,
     "metadata": {},
     "output_type": "execute_result"
    }
   ],
   "source": [
    "len(servers)"
   ]
  },
  {
   "cell_type": "code",
   "execution_count": 16,
   "id": "fa6c2ae9",
   "metadata": {},
   "outputs": [
    {
     "data": {
      "text/plain": [
       "250"
      ]
     },
     "execution_count": 16,
     "metadata": {},
     "output_type": "execute_result"
    }
   ],
   "source": [
    "len(responses)"
   ]
  },
  {
   "cell_type": "code",
   "execution_count": null,
   "id": "1e159c65",
   "metadata": {},
   "outputs": [],
   "source": [
    "responses = np.array(responses[0:50])\n",
    "\n",
    "plot_response_time(servers, responses, [\"JellyFish\"], [servers[np.argmin(responses)]])"
   ]
  },
  {
   "cell_type": "code",
   "execution_count": 11,
   "id": "aN9Vrhpq1B4M",
   "metadata": {
    "id": "aN9Vrhpq1B4M"
   },
   "outputs": [
    {
     "ename": "ValueError",
     "evalue": "x and y must have same first dimension, but have shapes (50,) and (250,)",
     "output_type": "error",
     "traceback": [
      "\u001b[0;31m---------------------------------------------------------------------------\u001b[0m",
      "\u001b[0;31mValueError\u001b[0m                                Traceback (most recent call last)",
      "Input \u001b[0;32mIn [11]\u001b[0m, in \u001b[0;36m<cell line: 1>\u001b[0;34m()\u001b[0m\n\u001b[0;32m----> 1\u001b[0m \u001b[43mplt\u001b[49m\u001b[38;5;241;43m.\u001b[39;49m\u001b[43mplot\u001b[49m\u001b[43m(\u001b[49m\u001b[43mservers\u001b[49m\u001b[43m,\u001b[49m\u001b[43m \u001b[49m\u001b[43mnp\u001b[49m\u001b[38;5;241;43m.\u001b[39;49m\u001b[43marray\u001b[49m\u001b[43m(\u001b[49m\u001b[43mresponses\u001b[49m\u001b[43m)\u001b[49m\u001b[43m \u001b[49m\u001b[38;5;241;43m/\u001b[39;49m\u001b[43m \u001b[49m\u001b[43mbaseline\u001b[49m\u001b[43m)\u001b[49m\n\u001b[1;32m      2\u001b[0m plt\u001b[38;5;241m.\u001b[39mxlabel(\u001b[38;5;124m\"\u001b[39m\u001b[38;5;124mNumber of Servers\u001b[39m\u001b[38;5;124m\"\u001b[39m)\n\u001b[1;32m      3\u001b[0m plt\u001b[38;5;241m.\u001b[39mylabel(\u001b[38;5;124m\"\u001b[39m\u001b[38;5;124mResponses time\u001b[39m\u001b[38;5;124m\"\u001b[39m)\n",
      "File \u001b[0;32m~/opt/anaconda3/lib/python3.9/site-packages/matplotlib/pyplot.py:2757\u001b[0m, in \u001b[0;36mplot\u001b[0;34m(scalex, scaley, data, *args, **kwargs)\u001b[0m\n\u001b[1;32m   2755\u001b[0m \u001b[38;5;129m@_copy_docstring_and_deprecators\u001b[39m(Axes\u001b[38;5;241m.\u001b[39mplot)\n\u001b[1;32m   2756\u001b[0m \u001b[38;5;28;01mdef\u001b[39;00m \u001b[38;5;21mplot\u001b[39m(\u001b[38;5;241m*\u001b[39margs, scalex\u001b[38;5;241m=\u001b[39m\u001b[38;5;28;01mTrue\u001b[39;00m, scaley\u001b[38;5;241m=\u001b[39m\u001b[38;5;28;01mTrue\u001b[39;00m, data\u001b[38;5;241m=\u001b[39m\u001b[38;5;28;01mNone\u001b[39;00m, \u001b[38;5;241m*\u001b[39m\u001b[38;5;241m*\u001b[39mkwargs):\n\u001b[0;32m-> 2757\u001b[0m     \u001b[38;5;28;01mreturn\u001b[39;00m \u001b[43mgca\u001b[49m\u001b[43m(\u001b[49m\u001b[43m)\u001b[49m\u001b[38;5;241;43m.\u001b[39;49m\u001b[43mplot\u001b[49m\u001b[43m(\u001b[49m\n\u001b[1;32m   2758\u001b[0m \u001b[43m        \u001b[49m\u001b[38;5;241;43m*\u001b[39;49m\u001b[43margs\u001b[49m\u001b[43m,\u001b[49m\u001b[43m \u001b[49m\u001b[43mscalex\u001b[49m\u001b[38;5;241;43m=\u001b[39;49m\u001b[43mscalex\u001b[49m\u001b[43m,\u001b[49m\u001b[43m \u001b[49m\u001b[43mscaley\u001b[49m\u001b[38;5;241;43m=\u001b[39;49m\u001b[43mscaley\u001b[49m\u001b[43m,\u001b[49m\n\u001b[1;32m   2759\u001b[0m \u001b[43m        \u001b[49m\u001b[38;5;241;43m*\u001b[39;49m\u001b[38;5;241;43m*\u001b[39;49m\u001b[43m(\u001b[49m\u001b[43m{\u001b[49m\u001b[38;5;124;43m\"\u001b[39;49m\u001b[38;5;124;43mdata\u001b[39;49m\u001b[38;5;124;43m\"\u001b[39;49m\u001b[43m:\u001b[49m\u001b[43m \u001b[49m\u001b[43mdata\u001b[49m\u001b[43m}\u001b[49m\u001b[43m \u001b[49m\u001b[38;5;28;43;01mif\u001b[39;49;00m\u001b[43m \u001b[49m\u001b[43mdata\u001b[49m\u001b[43m \u001b[49m\u001b[38;5;129;43;01mis\u001b[39;49;00m\u001b[43m \u001b[49m\u001b[38;5;129;43;01mnot\u001b[39;49;00m\u001b[43m \u001b[49m\u001b[38;5;28;43;01mNone\u001b[39;49;00m\u001b[43m \u001b[49m\u001b[38;5;28;43;01melse\u001b[39;49;00m\u001b[43m \u001b[49m\u001b[43m{\u001b[49m\u001b[43m}\u001b[49m\u001b[43m)\u001b[49m\u001b[43m,\u001b[49m\u001b[43m \u001b[49m\u001b[38;5;241;43m*\u001b[39;49m\u001b[38;5;241;43m*\u001b[39;49m\u001b[43mkwargs\u001b[49m\u001b[43m)\u001b[49m\n",
      "File \u001b[0;32m~/opt/anaconda3/lib/python3.9/site-packages/matplotlib/axes/_axes.py:1632\u001b[0m, in \u001b[0;36mAxes.plot\u001b[0;34m(self, scalex, scaley, data, *args, **kwargs)\u001b[0m\n\u001b[1;32m   1390\u001b[0m \u001b[38;5;124;03m\"\"\"\u001b[39;00m\n\u001b[1;32m   1391\u001b[0m \u001b[38;5;124;03mPlot y versus x as lines and/or markers.\u001b[39;00m\n\u001b[1;32m   1392\u001b[0m \n\u001b[0;32m   (...)\u001b[0m\n\u001b[1;32m   1629\u001b[0m \u001b[38;5;124;03m(``'green'``) or hex strings (``'#008000'``).\u001b[39;00m\n\u001b[1;32m   1630\u001b[0m \u001b[38;5;124;03m\"\"\"\u001b[39;00m\n\u001b[1;32m   1631\u001b[0m kwargs \u001b[38;5;241m=\u001b[39m cbook\u001b[38;5;241m.\u001b[39mnormalize_kwargs(kwargs, mlines\u001b[38;5;241m.\u001b[39mLine2D)\n\u001b[0;32m-> 1632\u001b[0m lines \u001b[38;5;241m=\u001b[39m [\u001b[38;5;241m*\u001b[39m\u001b[38;5;28mself\u001b[39m\u001b[38;5;241m.\u001b[39m_get_lines(\u001b[38;5;241m*\u001b[39margs, data\u001b[38;5;241m=\u001b[39mdata, \u001b[38;5;241m*\u001b[39m\u001b[38;5;241m*\u001b[39mkwargs)]\n\u001b[1;32m   1633\u001b[0m \u001b[38;5;28;01mfor\u001b[39;00m line \u001b[38;5;129;01min\u001b[39;00m lines:\n\u001b[1;32m   1634\u001b[0m     \u001b[38;5;28mself\u001b[39m\u001b[38;5;241m.\u001b[39madd_line(line)\n",
      "File \u001b[0;32m~/opt/anaconda3/lib/python3.9/site-packages/matplotlib/axes/_base.py:312\u001b[0m, in \u001b[0;36m_process_plot_var_args.__call__\u001b[0;34m(self, data, *args, **kwargs)\u001b[0m\n\u001b[1;32m    310\u001b[0m     this \u001b[38;5;241m+\u001b[39m\u001b[38;5;241m=\u001b[39m args[\u001b[38;5;241m0\u001b[39m],\n\u001b[1;32m    311\u001b[0m     args \u001b[38;5;241m=\u001b[39m args[\u001b[38;5;241m1\u001b[39m:]\n\u001b[0;32m--> 312\u001b[0m \u001b[38;5;28;01myield from\u001b[39;00m \u001b[38;5;28;43mself\u001b[39;49m\u001b[38;5;241;43m.\u001b[39;49m\u001b[43m_plot_args\u001b[49m\u001b[43m(\u001b[49m\u001b[43mthis\u001b[49m\u001b[43m,\u001b[49m\u001b[43m \u001b[49m\u001b[43mkwargs\u001b[49m\u001b[43m)\u001b[49m\n",
      "File \u001b[0;32m~/opt/anaconda3/lib/python3.9/site-packages/matplotlib/axes/_base.py:498\u001b[0m, in \u001b[0;36m_process_plot_var_args._plot_args\u001b[0;34m(self, tup, kwargs, return_kwargs)\u001b[0m\n\u001b[1;32m    495\u001b[0m     \u001b[38;5;28mself\u001b[39m\u001b[38;5;241m.\u001b[39maxes\u001b[38;5;241m.\u001b[39myaxis\u001b[38;5;241m.\u001b[39mupdate_units(y)\n\u001b[1;32m    497\u001b[0m \u001b[38;5;28;01mif\u001b[39;00m x\u001b[38;5;241m.\u001b[39mshape[\u001b[38;5;241m0\u001b[39m] \u001b[38;5;241m!=\u001b[39m y\u001b[38;5;241m.\u001b[39mshape[\u001b[38;5;241m0\u001b[39m]:\n\u001b[0;32m--> 498\u001b[0m     \u001b[38;5;28;01mraise\u001b[39;00m \u001b[38;5;167;01mValueError\u001b[39;00m(\u001b[38;5;124mf\u001b[39m\u001b[38;5;124m\"\u001b[39m\u001b[38;5;124mx and y must have same first dimension, but \u001b[39m\u001b[38;5;124m\"\u001b[39m\n\u001b[1;32m    499\u001b[0m                      \u001b[38;5;124mf\u001b[39m\u001b[38;5;124m\"\u001b[39m\u001b[38;5;124mhave shapes \u001b[39m\u001b[38;5;132;01m{\u001b[39;00mx\u001b[38;5;241m.\u001b[39mshape\u001b[38;5;132;01m}\u001b[39;00m\u001b[38;5;124m and \u001b[39m\u001b[38;5;132;01m{\u001b[39;00my\u001b[38;5;241m.\u001b[39mshape\u001b[38;5;132;01m}\u001b[39;00m\u001b[38;5;124m\"\u001b[39m)\n\u001b[1;32m    500\u001b[0m \u001b[38;5;28;01mif\u001b[39;00m x\u001b[38;5;241m.\u001b[39mndim \u001b[38;5;241m>\u001b[39m \u001b[38;5;241m2\u001b[39m \u001b[38;5;129;01mor\u001b[39;00m y\u001b[38;5;241m.\u001b[39mndim \u001b[38;5;241m>\u001b[39m \u001b[38;5;241m2\u001b[39m:\n\u001b[1;32m    501\u001b[0m     \u001b[38;5;28;01mraise\u001b[39;00m \u001b[38;5;167;01mValueError\u001b[39;00m(\u001b[38;5;124mf\u001b[39m\u001b[38;5;124m\"\u001b[39m\u001b[38;5;124mx and y can be no greater than 2D, but have \u001b[39m\u001b[38;5;124m\"\u001b[39m\n\u001b[1;32m    502\u001b[0m                      \u001b[38;5;124mf\u001b[39m\u001b[38;5;124m\"\u001b[39m\u001b[38;5;124mshapes \u001b[39m\u001b[38;5;132;01m{\u001b[39;00mx\u001b[38;5;241m.\u001b[39mshape\u001b[38;5;132;01m}\u001b[39;00m\u001b[38;5;124m and \u001b[39m\u001b[38;5;132;01m{\u001b[39;00my\u001b[38;5;241m.\u001b[39mshape\u001b[38;5;132;01m}\u001b[39;00m\u001b[38;5;124m\"\u001b[39m)\n",
      "\u001b[0;31mValueError\u001b[0m: x and y must have same first dimension, but have shapes (50,) and (250,)"
     ]
    },
    {
     "data": {
      "image/png": "[encoded data removed]",
      "text/plain": [
       "<Figure size 432x288 with 1 Axes>"
      ]
     },
     "metadata": {
      "needs_background": "light"
     },
     "output_type": "display_data"
    }
   ],
   "source": [
    "\n",
    "plt.plot(servers, np.array(responses) / baseline)\n",
    "plt.xlabel(\"Number of Servers\")\n",
    "plt.ylabel(\"Responses time\")\n",
    "plt.title(\"Normalised Responses\")\n",
    "plt.show()"
   ]
  },
  {
   "cell_type": "code",
   "execution_count": null,
   "id": "2ea937c0",
   "metadata": {},
   "outputs": [],
   "source": [
    "def simulate_job_running_cost(n_servers, n_simulations):\n",
    "    \"\"\"\n",
    "    According to the formula, in order to extract the expected value of the \n",
    "    response time and of theta, the function does a simulation in which it \n",
    "    uses the simulate_response_time function to calculate the response time and \n",
    "    it calculate the value of theta (sum of the times that all N servers are\n",
    "    used to run their respective tasks). After that it extracts the mean and it\n",
    "    returns the job running cost. \n",
    "    \n",
    "    \"\"\"\n",
    "    sum_response_time = 0 \n",
    "    sum_task_time = 0\n",
    "    \n",
    "    for _ in range(n_simulations): \n",
    "    \n",
    "        sum_response_time += response_time(jelly, n_servers, tau, L_f, f, expected_time, fixed_job_time_s, L_0, capacity)\n",
    "        \n",
    "        task_time = 0\n",
    "        \n",
    "        for _ in range(n_servers):\n",
    "            \n",
    "            exec_times = np.random.exponential(expected_time / n_servers, n_servers)\n",
    "            \n",
    "            task_time += (fixed_job_time_s + exec_times)\n",
    "            \n",
    "        sum_task_time += task_time/n_servers\n",
    "        \n",
    "    job_running_cost = sum_response_time/n_simulations + (xi * (sum_task_time/n_simulations))\n",
    "    \n",
    "    return job_running_cost"
   ]
  },
  {
   "cell_type": "code",
   "execution_count": null,
   "id": "73fba966",
   "metadata": {},
   "outputs": [],
   "source": [
    "baseline = (expected_time + fixed_job_time_s) + (xi * expected_time)"
   ]
  },
  {
   "cell_type": "code",
   "execution_count": null,
   "id": "2b1c8a39",
   "metadata": {},
   "outputs": [],
   "source": [
    "job_costs = []\n",
    "\n",
    "    servers = range(1, N + 1, 100)\n",
    "\n",
    "    for n_servers in tqdm(servers):\n",
    "        \n",
    "        job_cost = simulate_job_running_cost(n_servers, 10)\n",
    "        \n",
    "        job_costs.append(job_cost)\n",
    "        \n",
    "    \"\"\"\n",
    "    Plots\n",
    "    \"\"\"\n",
    "\n",
    "    plt.plot(servers, np.array(job_costs) / baseline)\n",
    "    plt.xlabel(\"Number of Servers\")\n",
    "    plt.ylabel(\"S\")\n",
    "    plt.title(\"Normalised Job Running Cost\")\n",
    "    plt.show()"
   ]
  }
 ],
 "metadata": {
  "colab": {
   "provenance": []
  },
  "kernelspec": {
   "display_name": "Python 3 (ipykernel)",
   "language": "python",
   "name": "python3"
  },
  "language_info": {
   "codemirror_mode": {
    "name": "ipython",
    "version": 3
   },
   "file_extension": ".py",
   "mimetype": "text/x-python",
   "name": "python",
   "nbconvert_exporter": "python",
   "pygments_lexer": "ipython3",
   "version": "3.9.12"
  }
 },
 "nbformat": 4,
 "nbformat_minor": 5
}
